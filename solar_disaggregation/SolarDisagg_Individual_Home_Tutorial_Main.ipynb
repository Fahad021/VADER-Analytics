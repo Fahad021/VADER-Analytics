{
 "cells": [
  {
   "cell_type": "markdown",
   "metadata": {},
   "source": [
    "# Basic Home Net-Metering Example\n",
    "\n",
    "- 8 Houses in total\n",
    "- 4 with solar, 4 without\n",
    "- 2 of the solar homes are considered \"metered\"\n",
    "- These 2 homes are used as proxies and tuning systems\n",
    "\n",
    "In this notebook, we first run dissagregation problem using the naive weights automatically instantiated by the class constructor. Then, we illustrate the impact of changing the weight of the load model. Finally, we implement Michaelangelo's _fancy_ weight tuning procedure."
   ]
  },
  {
   "cell_type": "code",
   "execution_count": 1,
   "metadata": {},
   "outputs": [],
   "source": [
    "import pandas as pd\n",
    "import numpy as np\n",
    "import pprint\n",
    "import os\n",
    "import matplotlib.pyplot as plt \n",
    "from SolarDisagg import SolarDisagg_IndvHome, createSolarDisaggIndvInputs\n",
    "from CSSS import CSSS"
   ]
  },
  {
   "cell_type": "markdown",
   "metadata": {},
   "source": [
    "### Load the data"
   ]
  },
  {
   "cell_type": "markdown",
   "metadata": {},
   "source": [
    "The data file was created by running `scripts/tutorial_data_setup.py`."
   ]
  },
  {
   "cell_type": "code",
   "execution_count": 2,
   "metadata": {},
   "outputs": [
    {
     "data": {
      "text/html": [
       "<div>\n",
       "<style scoped>\n",
       "    .dataframe tbody tr th:only-of-type {\n",
       "        vertical-align: middle;\n",
       "    }\n",
       "\n",
       "    .dataframe tbody tr th {\n",
       "        vertical-align: top;\n",
       "    }\n",
       "\n",
       "    .dataframe thead tr th {\n",
       "        text-align: left;\n",
       "    }\n",
       "\n",
       "    .dataframe thead tr:last-of-type th {\n",
       "        text-align: right;\n",
       "    }\n",
       "</style>\n",
       "<table border=\"1\" class=\"dataframe\">\n",
       "  <thead>\n",
       "    <tr>\n",
       "      <th></th>\n",
       "      <th>use</th>\n",
       "      <th>gen</th>\n",
       "      <th>netload</th>\n",
       "      <th>use</th>\n",
       "      <th>gen</th>\n",
       "      <th>netload</th>\n",
       "      <th>use</th>\n",
       "      <th>gen</th>\n",
       "      <th>netload</th>\n",
       "      <th>use</th>\n",
       "      <th>...</th>\n",
       "      <th>gen</th>\n",
       "      <th>netload</th>\n",
       "      <th>use</th>\n",
       "      <th>gen</th>\n",
       "      <th>netload</th>\n",
       "      <th>use</th>\n",
       "      <th>gen</th>\n",
       "      <th colspan=\"2\" halign=\"left\">netload</th>\n",
       "      <th>temperature</th>\n",
       "    </tr>\n",
       "    <tr>\n",
       "      <th></th>\n",
       "      <th>solar_home1</th>\n",
       "      <th>solar_home1</th>\n",
       "      <th>solar_home1</th>\n",
       "      <th>proxy1</th>\n",
       "      <th>proxy1</th>\n",
       "      <th>proxy1</th>\n",
       "      <th>home1</th>\n",
       "      <th>home1</th>\n",
       "      <th>home1</th>\n",
       "      <th>home2</th>\n",
       "      <th>...</th>\n",
       "      <th>proxy2</th>\n",
       "      <th>proxy2</th>\n",
       "      <th>home4</th>\n",
       "      <th>home4</th>\n",
       "      <th>home4</th>\n",
       "      <th>solar_home4</th>\n",
       "      <th>solar_home4</th>\n",
       "      <th>solar_home4</th>\n",
       "      <th>agg</th>\n",
       "      <th>Unnamed: 32_level_1</th>\n",
       "    </tr>\n",
       "    <tr>\n",
       "      <th>time</th>\n",
       "      <th></th>\n",
       "      <th></th>\n",
       "      <th></th>\n",
       "      <th></th>\n",
       "      <th></th>\n",
       "      <th></th>\n",
       "      <th></th>\n",
       "      <th></th>\n",
       "      <th></th>\n",
       "      <th></th>\n",
       "      <th></th>\n",
       "      <th></th>\n",
       "      <th></th>\n",
       "      <th></th>\n",
       "      <th></th>\n",
       "      <th></th>\n",
       "      <th></th>\n",
       "      <th></th>\n",
       "      <th></th>\n",
       "      <th></th>\n",
       "      <th></th>\n",
       "    </tr>\n",
       "  </thead>\n",
       "  <tbody>\n",
       "    <tr>\n",
       "      <th>2015-04-01 00:00:00</th>\n",
       "      <td>0.994133</td>\n",
       "      <td>-0.0040</td>\n",
       "      <td>0.998133</td>\n",
       "      <td>0.294400</td>\n",
       "      <td>-0.006</td>\n",
       "      <td>0.300400</td>\n",
       "      <td>1.200800</td>\n",
       "      <td>0.0</td>\n",
       "      <td>1.200800</td>\n",
       "      <td>0.721200</td>\n",
       "      <td>...</td>\n",
       "      <td>-0.008000</td>\n",
       "      <td>0.616667</td>\n",
       "      <td>0.344800</td>\n",
       "      <td>0.0</td>\n",
       "      <td>0.344800</td>\n",
       "      <td>0.460467</td>\n",
       "      <td>-0.007333</td>\n",
       "      <td>0.467800</td>\n",
       "      <td>7.2152</td>\n",
       "      <td>69.4100</td>\n",
       "    </tr>\n",
       "    <tr>\n",
       "      <th>2015-04-01 00:15:00</th>\n",
       "      <td>1.668467</td>\n",
       "      <td>-0.0040</td>\n",
       "      <td>1.672467</td>\n",
       "      <td>0.294733</td>\n",
       "      <td>-0.006</td>\n",
       "      <td>0.300733</td>\n",
       "      <td>0.488400</td>\n",
       "      <td>0.0</td>\n",
       "      <td>0.488400</td>\n",
       "      <td>0.752867</td>\n",
       "      <td>...</td>\n",
       "      <td>-0.007600</td>\n",
       "      <td>0.611267</td>\n",
       "      <td>0.316400</td>\n",
       "      <td>0.0</td>\n",
       "      <td>0.316400</td>\n",
       "      <td>0.334600</td>\n",
       "      <td>-0.007000</td>\n",
       "      <td>0.341600</td>\n",
       "      <td>6.9414</td>\n",
       "      <td>69.3925</td>\n",
       "    </tr>\n",
       "    <tr>\n",
       "      <th>2015-04-01 00:30:00</th>\n",
       "      <td>1.097600</td>\n",
       "      <td>-0.0040</td>\n",
       "      <td>1.101600</td>\n",
       "      <td>0.295800</td>\n",
       "      <td>-0.006</td>\n",
       "      <td>0.301800</td>\n",
       "      <td>0.455267</td>\n",
       "      <td>0.0</td>\n",
       "      <td>0.455267</td>\n",
       "      <td>0.604533</td>\n",
       "      <td>...</td>\n",
       "      <td>-0.007600</td>\n",
       "      <td>0.579467</td>\n",
       "      <td>1.071733</td>\n",
       "      <td>0.0</td>\n",
       "      <td>1.071733</td>\n",
       "      <td>0.377933</td>\n",
       "      <td>-0.007333</td>\n",
       "      <td>0.385267</td>\n",
       "      <td>7.1494</td>\n",
       "      <td>69.3750</td>\n",
       "    </tr>\n",
       "    <tr>\n",
       "      <th>2015-04-01 00:45:00</th>\n",
       "      <td>1.080533</td>\n",
       "      <td>-0.0040</td>\n",
       "      <td>1.084533</td>\n",
       "      <td>0.377333</td>\n",
       "      <td>-0.006</td>\n",
       "      <td>0.383333</td>\n",
       "      <td>0.350267</td>\n",
       "      <td>0.0</td>\n",
       "      <td>0.350267</td>\n",
       "      <td>0.760667</td>\n",
       "      <td>...</td>\n",
       "      <td>-0.007533</td>\n",
       "      <td>0.704533</td>\n",
       "      <td>2.797067</td>\n",
       "      <td>0.0</td>\n",
       "      <td>2.797067</td>\n",
       "      <td>0.471467</td>\n",
       "      <td>-0.008000</td>\n",
       "      <td>0.479467</td>\n",
       "      <td>10.3526</td>\n",
       "      <td>69.3575</td>\n",
       "    </tr>\n",
       "    <tr>\n",
       "      <th>2015-04-01 01:00:00</th>\n",
       "      <td>1.827000</td>\n",
       "      <td>-0.0038</td>\n",
       "      <td>1.830800</td>\n",
       "      <td>0.401933</td>\n",
       "      <td>-0.006</td>\n",
       "      <td>0.407933</td>\n",
       "      <td>1.129267</td>\n",
       "      <td>0.0</td>\n",
       "      <td>1.129267</td>\n",
       "      <td>0.513467</td>\n",
       "      <td>...</td>\n",
       "      <td>-0.007067</td>\n",
       "      <td>0.597800</td>\n",
       "      <td>0.239667</td>\n",
       "      <td>0.0</td>\n",
       "      <td>0.239667</td>\n",
       "      <td>0.360600</td>\n",
       "      <td>-0.007133</td>\n",
       "      <td>0.367733</td>\n",
       "      <td>7.7196</td>\n",
       "      <td>69.3400</td>\n",
       "    </tr>\n",
       "  </tbody>\n",
       "</table>\n",
       "<p>5 rows × 32 columns</p>\n",
       "</div>"
      ],
      "text/plain": [
       "                            use         gen     netload       use    gen  \\\n",
       "                    solar_home1 solar_home1 solar_home1    proxy1 proxy1   \n",
       "time                                                                       \n",
       "2015-04-01 00:00:00    0.994133     -0.0040    0.998133  0.294400 -0.006   \n",
       "2015-04-01 00:15:00    1.668467     -0.0040    1.672467  0.294733 -0.006   \n",
       "2015-04-01 00:30:00    1.097600     -0.0040    1.101600  0.295800 -0.006   \n",
       "2015-04-01 00:45:00    1.080533     -0.0040    1.084533  0.377333 -0.006   \n",
       "2015-04-01 01:00:00    1.827000     -0.0038    1.830800  0.401933 -0.006   \n",
       "\n",
       "                      netload       use   gen   netload       use  ...  \\\n",
       "                       proxy1     home1 home1     home1     home2  ...   \n",
       "time                                                               ...   \n",
       "2015-04-01 00:00:00  0.300400  1.200800   0.0  1.200800  0.721200  ...   \n",
       "2015-04-01 00:15:00  0.300733  0.488400   0.0  0.488400  0.752867  ...   \n",
       "2015-04-01 00:30:00  0.301800  0.455267   0.0  0.455267  0.604533  ...   \n",
       "2015-04-01 00:45:00  0.383333  0.350267   0.0  0.350267  0.760667  ...   \n",
       "2015-04-01 01:00:00  0.407933  1.129267   0.0  1.129267  0.513467  ...   \n",
       "\n",
       "                          gen   netload       use   gen   netload         use  \\\n",
       "                       proxy2    proxy2     home4 home4     home4 solar_home4   \n",
       "time                                                                            \n",
       "2015-04-01 00:00:00 -0.008000  0.616667  0.344800   0.0  0.344800    0.460467   \n",
       "2015-04-01 00:15:00 -0.007600  0.611267  0.316400   0.0  0.316400    0.334600   \n",
       "2015-04-01 00:30:00 -0.007600  0.579467  1.071733   0.0  1.071733    0.377933   \n",
       "2015-04-01 00:45:00 -0.007533  0.704533  2.797067   0.0  2.797067    0.471467   \n",
       "2015-04-01 01:00:00 -0.007067  0.597800  0.239667   0.0  0.239667    0.360600   \n",
       "\n",
       "                            gen     netload                  temperature  \n",
       "                    solar_home4 solar_home4      agg Unnamed: 32_level_1  \n",
       "time                                                                      \n",
       "2015-04-01 00:00:00   -0.007333    0.467800   7.2152             69.4100  \n",
       "2015-04-01 00:15:00   -0.007000    0.341600   6.9414             69.3925  \n",
       "2015-04-01 00:30:00   -0.007333    0.385267   7.1494             69.3750  \n",
       "2015-04-01 00:45:00   -0.008000    0.479467  10.3526             69.3575  \n",
       "2015-04-01 01:00:00   -0.007133    0.367733   7.7196             69.3400  \n",
       "\n",
       "[5 rows x 32 columns]"
      ]
     },
     "execution_count": 2,
     "metadata": {},
     "output_type": "execute_result"
    }
   ],
   "source": [
    "df = pd.read_csv('data/tutorial_data.csv', index_col=0, header=[0, 1], parse_dates=[0])\n",
    "df.head()"
   ]
  },
  {
   "cell_type": "markdown",
   "metadata": {},
   "source": [
    "### Plot an example"
   ]
  },
  {
   "cell_type": "code",
   "execution_count": 3,
   "metadata": {},
   "outputs": [
    {
     "name": "stderr",
     "output_type": "stream",
     "text": [
      "/anaconda3/envs/venv_vader_solar_disagg_py3/lib/python3.6/site-packages/pandas/plotting/_converter.py:129: FutureWarning: Using an implicitly registered datetime converter for a matplotlib plotting method. The converter was registered by pandas on import. Future versions of pandas will require you to explicitly register matplotlib converters.\n",
      "\n",
      "To register the converters:\n",
      "\t>>> from pandas.plotting import register_matplotlib_converters\n",
      "\t>>> register_matplotlib_converters()\n",
      "  warnings.warn(msg, FutureWarning)\n"
     ]
    },
    {
     "data": {
      "image/png": "[encoded data removed]",
      "text/plain": [
       "<Figure size 864x576 with 1 Axes>"
      ]
     },
     "metadata": {
      "needs_background": "light"
     },
     "output_type": "display_data"
    }
   ],
   "source": [
    "n_pts = 2*96\n",
    "plt.figure(figsize=(12,8))\n",
    "plt.plot(df['gen']['solar_home1'].iloc[:n_pts])\n",
    "plt.plot(df['use']['solar_home1'].iloc[:n_pts])\n",
    "plt.plot(df['netload']['solar_home1'].iloc[:n_pts])\n",
    "plt.legend(['gen','use','netload'])\n",
    "plt.show()"
   ]
  },
  {
   "cell_type": "markdown",
   "metadata": {},
   "source": [
    "Next, we need to process this time-series data table to create the correct inputs for the disaggregation class constructor."
   ]
  },
  {
   "cell_type": "code",
   "execution_count": 4,
   "metadata": {},
   "outputs": [
    {
     "data": {
      "text/plain": [
       "['solar_home1',\n",
       " 'solar_home2',\n",
       " 'solar_home3',\n",
       " 'solar_home4',\n",
       " 'home1',\n",
       " 'home2',\n",
       " 'home3',\n",
       " 'home4']"
      ]
     },
     "execution_count": 4,
     "metadata": {},
     "output_type": "execute_result"
    }
   ],
   "source": [
    "home_ids = [b + str(n+1) for b in ['solar_home', 'home'] for n in range(4)]\n",
    "home_ids"
   ]
  },
  {
   "cell_type": "code",
   "execution_count": 5,
   "metadata": {},
   "outputs": [
    {
     "name": "stdout",
     "output_type": "stream",
     "text": [
      "{'loadregressors': array([[1.    , 0.    , 0.    , ..., 9.41  , 0.    , 0.    ],\n",
      "       [1.    , 0.    , 0.    , ..., 9.3925, 0.    , 0.    ],\n",
      "       [1.    , 0.    , 0.    , ..., 9.375 , 0.    , 0.    ],\n",
      "       ...,\n",
      "       [0.    , 0.    , 0.    , ..., 8.62  , 0.    , 0.    ],\n",
      "       [0.    , 0.    , 0.    , ..., 8.54  , 0.    , 0.    ],\n",
      "       [0.    , 0.    , 0.    , ..., 8.46  , 0.    , 0.    ]]),\n",
      " 'names': ['solar_home1',\n",
      "           'solar_home2',\n",
      "           'solar_home3',\n",
      "           'solar_home4',\n",
      "           'home1',\n",
      "           'home2',\n",
      "           'home3',\n",
      "           'home4'],\n",
      " 'netloads': array([[0.99813333, 0.36666667, 0.8826    , ..., 0.7212    , 1.31613333,\n",
      "        0.3448    ],\n",
      "       [1.67246667, 0.454     , 0.71046667, ..., 0.75286667, 1.2932    ,\n",
      "        0.3164    ],\n",
      "       [1.1016    , 0.43526667, 0.932     , ..., 0.60453333, 1.28246667,\n",
      "        1.07173333],\n",
      "       ...,\n",
      "       [1.10513333, 0.74326667, 4.18586667, ..., 1.83853333, 1.33526667,\n",
      "        0.429     ],\n",
      "       [2.0918    , 0.7306    , 4.10846667, ..., 2.34233333, 1.40153333,\n",
      "        0.3276    ],\n",
      "       [1.08126667, 0.72686667, 4.5828    , ..., 2.34213333, 1.32706667,\n",
      "        2.79893333]]),\n",
      " 'solarregressors': array([[0.004 , 0.008 ],\n",
      "       [0.004 , 0.008 ],\n",
      "       [0.004 , 0.008 ],\n",
      "       ...,\n",
      "       [0.004 , 0.008 ],\n",
      "       [0.0038, 0.008 ],\n",
      "       [0.004 , 0.008 ]]),\n",
      " 'tuningregressors': array([[1, 0, 0, ..., 0, 0, 0],\n",
      "       [1, 0, 0, ..., 0, 0, 0],\n",
      "       [1, 0, 0, ..., 0, 0, 0],\n",
      "       ...,\n",
      "       [0, 0, 0, ..., 0, 0, 1],\n",
      "       [0, 0, 0, ..., 0, 0, 1],\n",
      "       [0, 0, 0, ..., 0, 0, 1]], dtype=uint8)}\n"
     ]
    }
   ],
   "source": [
    "data = createSolarDisaggIndvInputs(df, home_ids, solar_proxy_ids=['solar_home1', 'solar_home2']) # we should update the bias term though, bias_term=False)\n",
    "pprint.pprint(data, indent=1)"
   ]
  },
  {
   "cell_type": "markdown",
   "metadata": {},
   "source": [
    "Now, we can instantiate the disaggregation class."
   ]
  },
  {
   "cell_type": "code",
   "execution_count": 6,
   "metadata": {},
   "outputs": [
    {
     "ename": "TypeError",
     "evalue": "Variable name 1 must be a string.",
     "output_type": "error",
     "traceback": [
      "\u001b[0;31m---------------------------------------------------------------------------\u001b[0m",
      "\u001b[0;31mTypeError\u001b[0m                                 Traceback (most recent call last)",
      "\u001b[0;32m<ipython-input-6-b7e3229b78cb>\u001b[0m in \u001b[0;36m<module>\u001b[0;34m\u001b[0m\n\u001b[0;32m----> 1\u001b[0;31m \u001b[0msdmod0\u001b[0m \u001b[0;34m=\u001b[0m \u001b[0mSolarDisagg_IndvHome\u001b[0m\u001b[0;34m(\u001b[0m\u001b[0;34m**\u001b[0m\u001b[0mdata\u001b[0m\u001b[0;34m)\u001b[0m\u001b[0;34m\u001b[0m\u001b[0;34m\u001b[0m\u001b[0m\n\u001b[0m",
      "\u001b[0;32m~/Dropbox/Code/VADER-Analytics/solar_disaggregation/SolarDisagg.py\u001b[0m in \u001b[0;36m__init__\u001b[0;34m(self, netloads, solarregressors, loadregressors, tuningregressors, names, nosolar_ids)\u001b[0m\n\u001b[1;32m     50\u001b[0m         \u001b[0;31m## Cycle through each net load, and create sources.\u001b[0m\u001b[0;34m\u001b[0m\u001b[0;34m\u001b[0m\u001b[0;34m\u001b[0m\u001b[0m\n\u001b[1;32m     51\u001b[0m         \u001b[0;32mfor\u001b[0m \u001b[0msource_name\u001b[0m \u001b[0;32min\u001b[0m \u001b[0mself\u001b[0m\u001b[0;34m.\u001b[0m\u001b[0mnames\u001b[0m\u001b[0;34m:\u001b[0m\u001b[0;34m\u001b[0m\u001b[0;34m\u001b[0m\u001b[0m\n\u001b[0;32m---> 52\u001b[0;31m             \u001b[0mself\u001b[0m\u001b[0;34m.\u001b[0m\u001b[0maddSource\u001b[0m\u001b[0;34m(\u001b[0m\u001b[0mregressor\u001b[0m\u001b[0;34m=\u001b[0m\u001b[0msolarregressors\u001b[0m\u001b[0;34m,\u001b[0m \u001b[0mname\u001b[0m \u001b[0;34m=\u001b[0m \u001b[0msource_name\u001b[0m\u001b[0;34m,\u001b[0m \u001b[0malpha\u001b[0m \u001b[0;34m=\u001b[0m \u001b[0;36m1\u001b[0m\u001b[0;34m)\u001b[0m\u001b[0;34m\u001b[0m\u001b[0;34m\u001b[0m\u001b[0m\n\u001b[0m\u001b[1;32m     53\u001b[0m \u001b[0;34m\u001b[0m\u001b[0m\n\u001b[1;32m     54\u001b[0m             \u001b[0;31m## Add constraints that solar generation cannot exceed zero or net load.\u001b[0m\u001b[0;34m\u001b[0m\u001b[0;34m\u001b[0m\u001b[0;34m\u001b[0m\u001b[0m\n",
      "\u001b[0;32m~/Dropbox/Code/VADER-Analytics/solar_disaggregation/CSSS.py\u001b[0m in \u001b[0;36maddSource\u001b[0;34m(self, regressor, name, costFunction, alpha, regularizeTheta, beta, regularizeSource, gamma, lb, ub)\u001b[0m\n\u001b[1;32m     55\u001b[0m \u001b[0;34m\u001b[0m\u001b[0m\n\u001b[1;32m     56\u001b[0m         \u001b[0;31m## Define decision variables and cost function style\u001b[0m\u001b[0;34m\u001b[0m\u001b[0;34m\u001b[0m\u001b[0;34m\u001b[0m\u001b[0m\n\u001b[0;32m---> 57\u001b[0;31m         \u001b[0mmodel\u001b[0m\u001b[0;34m[\u001b[0m\u001b[0;34m'source'\u001b[0m\u001b[0;34m]\u001b[0m    \u001b[0;34m=\u001b[0m \u001b[0mcvp\u001b[0m\u001b[0;34m.\u001b[0m\u001b[0mVariable\u001b[0m\u001b[0;34m(\u001b[0m\u001b[0mself\u001b[0m\u001b[0;34m.\u001b[0m\u001b[0mN\u001b[0m\u001b[0;34m,\u001b[0m\u001b[0;36m1\u001b[0m\u001b[0;34m)\u001b[0m\u001b[0;34m\u001b[0m\u001b[0;34m\u001b[0m\u001b[0m\n\u001b[0m\u001b[1;32m     58\u001b[0m         \u001b[0mmodel\u001b[0m\u001b[0;34m[\u001b[0m\u001b[0;34m'theta'\u001b[0m\u001b[0;34m]\u001b[0m     \u001b[0;34m=\u001b[0m \u001b[0mcvp\u001b[0m\u001b[0;34m.\u001b[0m\u001b[0mVariable\u001b[0m\u001b[0;34m(\u001b[0m\u001b[0mmodel\u001b[0m\u001b[0;34m[\u001b[0m\u001b[0;34m'order'\u001b[0m\u001b[0;34m]\u001b[0m\u001b[0;34m,\u001b[0m\u001b[0;36m1\u001b[0m\u001b[0;34m)\u001b[0m\u001b[0;34m\u001b[0m\u001b[0;34m\u001b[0m\u001b[0m\n\u001b[1;32m     59\u001b[0m         \u001b[0mmodel\u001b[0m\u001b[0;34m[\u001b[0m\u001b[0;34m'costFunction'\u001b[0m\u001b[0;34m]\u001b[0m \u001b[0;34m=\u001b[0m \u001b[0mcostFunction\u001b[0m\u001b[0;34m\u001b[0m\u001b[0;34m\u001b[0m\u001b[0m\n",
      "\u001b[0;32m/anaconda3/envs/venv_vader_solar_disagg_py3/lib/python3.6/site-packages/cvxpy/expressions/variable.py\u001b[0m in \u001b[0;36m__init__\u001b[0;34m(self, shape, name, var_id, **kwargs)\u001b[0m\n\u001b[1;32m     73\u001b[0m             \u001b[0mself\u001b[0m\u001b[0;34m.\u001b[0m\u001b[0m_name\u001b[0m \u001b[0;34m=\u001b[0m \u001b[0mname\u001b[0m\u001b[0;34m\u001b[0m\u001b[0;34m\u001b[0m\u001b[0m\n\u001b[1;32m     74\u001b[0m         \u001b[0;32melse\u001b[0m\u001b[0;34m:\u001b[0m\u001b[0;34m\u001b[0m\u001b[0;34m\u001b[0m\u001b[0m\n\u001b[0;32m---> 75\u001b[0;31m             \u001b[0;32mraise\u001b[0m \u001b[0mTypeError\u001b[0m\u001b[0;34m(\u001b[0m\u001b[0;34m\"Variable name %s must be a string.\"\u001b[0m \u001b[0;34m%\u001b[0m \u001b[0mname\u001b[0m\u001b[0;34m)\u001b[0m\u001b[0;34m\u001b[0m\u001b[0;34m\u001b[0m\u001b[0m\n\u001b[0m\u001b[1;32m     76\u001b[0m \u001b[0;34m\u001b[0m\u001b[0m\n\u001b[1;32m     77\u001b[0m         \u001b[0mself\u001b[0m\u001b[0;34m.\u001b[0m\u001b[0m_value\u001b[0m \u001b[0;34m=\u001b[0m \u001b[0;32mNone\u001b[0m\u001b[0;34m\u001b[0m\u001b[0;34m\u001b[0m\u001b[0m\n",
      "\u001b[0;31mTypeError\u001b[0m: Variable name 1 must be a string."
     ]
    }
   ],
   "source": [
    "sdmod0 = SolarDisagg_IndvHome(**data)"
   ]
  },
  {
   "cell_type": "markdown",
   "metadata": {},
   "source": [
    "### Case 1: Naive weights\n",
    "\n",
    "After instantiation, all model weights are equal to one, as shown below."
   ]
  },
  {
   "cell_type": "code",
   "execution_count": null,
   "metadata": {},
   "outputs": [],
   "source": [
    "for model in sdmod0.models.values():\n",
    "    print(model['alpha'])"
   ]
  },
  {
   "cell_type": "markdown",
   "metadata": {},
   "source": [
    "Solve the problem:"
   ]
  },
  {
   "cell_type": "code",
   "execution_count": null,
   "metadata": {},
   "outputs": [],
   "source": [
    "sdmod0.constructSolve()"
   ]
  },
  {
   "cell_type": "markdown",
   "metadata": {},
   "source": [
    "To inspect the performance, we plot actual and predicted solar output from the 8 houses."
   ]
  },
  {
   "cell_type": "code",
   "execution_count": null,
   "metadata": {},
   "outputs": [],
   "source": [
    "n_pts = 5* 96\n",
    "fig, ax = plt.subplots(nrows=4, ncols=2, figsize=(14,16), sharex=True, sharey=True)\n",
    "for i in range(4):\n",
    "    k1 = 'solar_home{}'.format(i+1)\n",
    "    k2 = 'home{}'.format(i+1)\n",
    "    ax[i, 0].plot(df['gen'][k1].values[:n_pts], label='actual')\n",
    "    ax[i, 0].plot(-sdmod0.models[k1]['source'].value.A1[:n_pts], label='predicted')\n",
    "    ax[i, 1].plot(df['gen'][k2].values[:n_pts], label='actual')\n",
    "    ax[i, 1].plot(-sdmod0.models[k2]['source'].value.A1[:n_pts], label='predicted')\n",
    "    ax[i, 0].set_title(k1)\n",
    "    ax[i, 1].set_title(k2)\n",
    "    ax[i, 0].legend(loc=1)\n",
    "    ax[i, 1].legend(loc=1)\n",
    "plt.tight_layout()"
   ]
  },
  {
   "cell_type": "markdown",
   "metadata": {},
   "source": [
    "Observations: This is a very bad disaggregation result. The algorithm incorrectly assigned significant generation to houses without solar and nighttime periods."
   ]
  },
  {
   "cell_type": "markdown",
   "metadata": {},
   "source": [
    "### Case 2: fancy weight tuning\n",
    "\n",
    "In the most recent interation of the solar disaggregation work, MT included a 9-step procedure for automatically turning all the weights in the problem instance (for the load model as well as the solar models). This procedure introduces _time-dependent_ weighting, so each model has a weight for each time period in the data set."
   ]
  },
  {
   "cell_type": "code",
   "execution_count": null,
   "metadata": {},
   "outputs": [],
   "source": [
    "for key in ['solar_home1', 'solar_home2']:\n",
    "    sdmod0.addTrueValue(df['gen'][key], key)"
   ]
  },
  {
   "cell_type": "code",
   "execution_count": null,
   "metadata": {},
   "outputs": [],
   "source": [
    "sdmod0.fitTuneModels()\n",
    "sdmod0.tuneAlphas()\n",
    "sdmod0.constructSolve()"
   ]
  },
  {
   "cell_type": "markdown",
   "metadata": {},
   "source": [
    "Below are some plots illustrating the tuned weights"
   ]
  },
  {
   "cell_type": "code",
   "execution_count": null,
   "metadata": {},
   "outputs": [],
   "source": [
    "plt.plot(sdmod0.models['AggregateLoad']['alpha'])"
   ]
  },
  {
   "cell_type": "markdown",
   "metadata": {},
   "source": [
    "### Plot the predicted vs actual solar generation"
   ]
  },
  {
   "cell_type": "code",
   "execution_count": null,
   "metadata": {},
   "outputs": [],
   "source": [
    "n_pts = 5 * 96\n",
    "fig, ax = plt.subplots(nrows=4, ncols=2, figsize=(14,16), sharex=True, sharey=True)\n",
    "for i in range(4):\n",
    "    k1 = 'solar_home{}'.format(i+1)\n",
    "    k2 = 'home{}'.format(i+1)\n",
    "    ax[i, 0].plot(df['gen'][k1].values[:n_pts], label='actual')\n",
    "    ax[i, 0].plot(-sdmod0.models[k1]['source'].value.A1[:n_pts], label='predicted')\n",
    "    ax[i, 1].plot(df['gen'][k2].values[:n_pts], label='actual')\n",
    "    ax[i, 1].plot(-sdmod0.models[k2]['source'].value.A1[:n_pts], label='predicted')\n",
    "    ax[i, 0].set_title(k1)\n",
    "    ax[i, 1].set_title(k2)\n",
    "    ax[i, 0].legend(loc=1)\n",
    "    ax[i, 1].legend(loc=1)\n",
    "plt.tight_layout()"
   ]
  },
  {
   "cell_type": "code",
   "execution_count": null,
   "metadata": {},
   "outputs": [],
   "source": [
    "n_pts = 5 * 96\n",
    "fig, ax = plt.subplots(nrows=4, ncols=2, figsize=(14,16), sharex=True, sharey=True)\n",
    "for i in range(4):\n",
    "    k1 = 'solar_home{}'.format(i+1)\n",
    "    k2 = 'home{}'.format(i+1)\n",
    "    ax[i, 0].plot(df['gen'][k1].values[:n_pts], label='actual')\n",
    "    ax[i, 0].plot(-sdmod0.models[k1]['source'].value.A1[:n_pts], label='predicted')\n",
    "    ax[i, 0].plot(df['use'][k1].values[:n_pts], label='use_actual')\n",
    "    ax[i, 0].plot(-sdmod0.models[k1]['source'].value.A1[:n_pts]+df['netload'][k1].values[:n_pts], label='use_predicted')\n",
    "    ax[i, 0].plot(df['netload'][k1].values[:n_pts], label='NETLOAD')\n",
    "    ax[i, 1].plot(df['gen'][k2].values[:n_pts], label='actual')\n",
    "    ax[i, 1].plot(-sdmod0.models[k2]['source'].value.A1[:n_pts], label='predicted')\n",
    "    ax[i, 1].plot(df['use'][k2].values[:n_pts], label='use_actual')\n",
    "    ax[i, 1].plot(-sdmod0.models[k2]['source'].value.A1[:n_pts]+df['netload'][k2].values[:n_pts], label='use_predicted')\n",
    "    ax[i, 0].set_title(k1)\n",
    "    ax[i, 1].set_title(k2)\n",
    "    ax[i, 0].legend(loc=1)\n",
    "    ax[i, 1].legend(loc=1)\n",
    "plt.tight_layout()"
   ]
  },
  {
   "cell_type": "markdown",
   "metadata": {},
   "source": [
    "Conclusion: this scenario is better than the first initialisation, assigning basically no generation to the houses without solar.\n"
   ]
  }
 ],
 "metadata": {
  "kernelspec": {
   "display_name": "Python 3",
   "language": "python",
   "name": "python3"
  },
  "language_info": {
   "codemirror_mode": {
    "name": "ipython",
    "version": 3
   },
   "file_extension": ".py",
   "mimetype": "text/x-python",
   "name": "python",
   "nbconvert_exporter": "python",
   "pygments_lexer": "ipython3",
   "version": "3.6.8"
  }
 },
 "nbformat": 4,
 "nbformat_minor": 2
}
